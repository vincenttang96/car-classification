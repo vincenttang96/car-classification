{
  "nbformat": 4,
  "nbformat_minor": 0,
  "metadata": {
    "colab": {
      "name": "predict.ipynb",
      "version": "0.3.2",
      "provenance": [],
      "collapsed_sections": [],
      "toc_visible": true
    },
    "language_info": {
      "codemirror_mode": {
        "name": "ipython",
        "version": 3
      },
      "file_extension": ".py",
      "mimetype": "text/x-python",
      "name": "python",
      "nbconvert_exporter": "python",
      "pygments_lexer": "ipython3",
      "version": "3.6.7"
    },
    "kernelspec": {
      "name": "python3",
      "display_name": "Python 3"
    },
    "accelerator": "GPU"
  },
  "cells": [
    {
      "cell_type": "code",
      "metadata": {
        "id": "NSdZkt53V1h4",
        "colab_type": "code",
        "colab": {}
      },
      "source": [
        "'''Mount Drive to Google Colab'''\n",
        "# Load the Drive helper and mount\n",
        "from google.colab import drive\n",
        "\n",
        "# This will prompt for authorization.\n",
        "drive.mount('/content/drive/')"
      ],
      "execution_count": 0,
      "outputs": []
    },
    {
      "cell_type": "code",
      "metadata": {
        "id": "if8hnE4_3dyJ",
        "colab_type": "code",
        "colab": {}
      },
      "source": [
        "import os\n",
        "import time\n",
        "import matplotlib.pyplot as plt\n",
        "import numpy as np\n",
        "import pandas as pd\n",
        "from PIL import Image\n",
        "from scipy.io import loadmat\n",
        "import seaborn as sns"
      ],
      "execution_count": 0,
      "outputs": []
    },
    {
      "cell_type": "markdown",
      "metadata": {
        "id": "fwza6Kp1992V",
        "colab_type": "text"
      },
      "source": [
        "##Download dataset\n",
        "Note that download command can only run on Linux-based environment / Google Colab"
      ]
    },
    {
      "cell_type": "code",
      "metadata": {
        "id": "NFo0Aw1q5YXq",
        "colab_type": "code",
        "outputId": "f2420faa-8b96-4d05-9af8-9b8fd00ac0a6",
        "colab": {
          "base_uri": "https://localhost:8080/",
          "height": 605
        }
      },
      "source": [
        "'''Linux command'''\n",
        "# Download dataset and annotations from https://ai.stanford.edu/~jkrause/cars/car_dataset.html\n",
        "# Unzip folder\n",
        "\n",
        "if not os.path.exists('dataset'):\n",
        "  os.mkdir('dataset')\n",
        "!wget http://imagenet.stanford.edu/internal/car196/cars_train.tgz -O dataset/cars_train.tgz\n",
        "!tar xzf dataset/cars_train.tgz -C dataset/\n",
        "\n",
        "!wget http://imagenet.stanford.edu/internal/car196/cars_test.tgz -O dataset/cars_test.tgz\n",
        "!tar xzf dataset/cars_test.tgz -C dataset/\n",
        "\n",
        "!wget https://ai.stanford.edu/~jkrause/cars/car_devkit.tgz -O dataset/car_devkit.tgz\n",
        "!tar xzf dataset/car_devkit.tgz -C dataset/\n",
        "\n",
        "!ls dataset"
      ],
      "execution_count": 0,
      "outputs": [
        {
          "output_type": "stream",
          "text": [
            "--2019-06-11 14:32:16--  http://imagenet.stanford.edu/internal/car196/cars_train.tgz\n",
            "Resolving imagenet.stanford.edu (imagenet.stanford.edu)... 171.64.68.16\n",
            "Connecting to imagenet.stanford.edu (imagenet.stanford.edu)|171.64.68.16|:80... connected.\n",
            "HTTP request sent, awaiting response... 200 OK\n",
            "Length: 979269282 (934M) [application/x-gzip]\n",
            "Saving to: ‘dataset/cars_train.tgz’\n",
            "\n",
            "dataset/cars_train. 100%[===================>] 933.90M   908KB/s    in 9m 10s  \n",
            "\n",
            "2019-06-11 14:41:26 (1.70 MB/s) - ‘dataset/cars_train.tgz’ saved [979269282/979269282]\n",
            "\n",
            "--2019-06-11 14:41:37--  http://imagenet.stanford.edu/internal/car196/cars_test.tgz\n",
            "Resolving imagenet.stanford.edu (imagenet.stanford.edu)... 171.64.68.16\n",
            "Connecting to imagenet.stanford.edu (imagenet.stanford.edu)|171.64.68.16|:80... connected.\n",
            "HTTP request sent, awaiting response... 200 OK\n",
            "Length: 977350468 (932M) [application/x-gzip]\n",
            "Saving to: ‘dataset/cars_test.tgz’\n",
            "\n",
            "dataset/cars_test.t 100%[===================>] 932.07M  3.07MB/s    in 11m 12s \n",
            "\n",
            "2019-06-11 14:52:50 (1.39 MB/s) - ‘dataset/cars_test.tgz’ saved [977350468/977350468]\n",
            "\n",
            "--2019-06-11 14:53:01--  https://ai.stanford.edu/~jkrause/cars/car_devkit.tgz\n",
            "Resolving ai.stanford.edu (ai.stanford.edu)... 171.64.68.10\n",
            "Connecting to ai.stanford.edu (ai.stanford.edu)|171.64.68.10|:443... connected.\n",
            "HTTP request sent, awaiting response... 200 OK\n",
            "Length: 330960 (323K) [application/x-gzip]\n",
            "Saving to: ‘dataset/car_devkit.tgz’\n",
            "\n",
            "dataset/car_devkit. 100%[===================>] 323.20K   285KB/s    in 1.1s    \n",
            "\n",
            "2019-06-11 14:53:02 (285 KB/s) - ‘dataset/car_devkit.tgz’ saved [330960/330960]\n",
            "\n",
            "car_devkit.tgz\tcars_test  cars_test.tgz  cars_train  cars_train.tgz  devkit\n"
          ],
          "name": "stdout"
        }
      ]
    },
    {
      "cell_type": "markdown",
      "metadata": {
        "id": "JmpIOAqsPd_G",
        "colab_type": "text"
      },
      "source": [
        "##Essential functions"
      ]
    },
    {
      "cell_type": "code",
      "metadata": {
        "id": "mjlBeyUL3dyM",
        "colab_type": "code",
        "colab": {}
      },
      "source": [
        "from tensorflow.keras import models, layers, Model, optimizers\n",
        "from tensorflow.keras.preprocessing import image\n",
        "from tensorflow.keras.applications.inception_resnet_v2 import InceptionResNetV2, preprocess_input\n",
        "\n",
        "def load_annotation_from_mat(path_to_annos_mat):\n",
        "    '''\n",
        "    DESRIPTION:\n",
        "    path_to_annos_mat: path to the train/test mat file e.g. '/path/cars_test_anno.mat'\n",
        "    Return: Annotation details (DataFrame)\n",
        "    '''\n",
        "    loaded_anno_file = loadmat(path_to_annos_mat)\n",
        "    # get total column in annotation file\n",
        "    total_column = len(loaded_anno_file['annotations'][0][0])\n",
        "    if (total_column == 6): #train annotation loaded\n",
        "        frame = [[i.flat[0] for i in line] for line in loaded_anno_file['annotations'][0]]\n",
        "        columns = ['bbox_x1', 'bbox_y1', 'bbox_x2', 'bbox_y2', 'class', 'fname']\n",
        "        df = pd.DataFrame(frame, columns=columns)\n",
        "    else: #test annotation loaded\n",
        "        frame = [[i.flat[0] for i in line] for line in loaded_anno_file['annotations'][0]]\n",
        "        columns = ['bbox_x1', 'bbox_y1', 'bbox_x2', 'bbox_y2', 'fname']\n",
        "        df = pd.DataFrame(frame, columns=columns)\n",
        "    return df\n",
        "\n",
        "def load_label_from_mat(path_to_meta_mat):\n",
        "    '''\n",
        "    DESRIPTION:\n",
        "    path_to_meta_mat: path to meta mat file e.g. '/path/cars_meta.mat'\n",
        "    '''\n",
        "    # read cars labels from cars_meta.mat\n",
        "    cars_meta = loadmat(path_to_meta_mat)\n",
        "    labels = [c for c in cars_meta['class_names'][0]]\n",
        "    labels = pd.DataFrame(labels, columns=['label_name'], index=np.arange(1,197))\n",
        "    labels = labels.sort_values(by=['label_name'])\n",
        "    return [{k:v} for k,v in labels['label_name'].items()]\n",
        "\n",
        "def build_model():\n",
        "    '''\n",
        "    Return: Keras model\n",
        "    '''\n",
        "    class_no = 196\n",
        "    # load pretrained model weights\n",
        "    base_model = InceptionResNetV2(weights='imagenet', input_shape=(299, 299, 3), include_top=False)\n",
        "    x = base_model.output # extract bottlenecks from pretrained convolutional network\n",
        "    x = layers.GlobalAveragePooling2D()(x) # add pooling layer\n",
        "    x = layers.Dropout(rate=0.0)(x) # regularizer is set to 0.0 in evaluation\n",
        "    x = layers.Dense(512, activation='relu')(x) # add fully connected layer with 512 nodes & Relu activation\n",
        "    x = layers.Dropout(rate=0.0)(x)\n",
        "    predictions = layers.Dense(class_no, activation='softmax')(x) # prediction outputs in last layer with softmax activation\n",
        "    model = Model(inputs=base_model.input, outputs=predictions) # connect all the layers above and return as a model\n",
        "    return model \n",
        "\n",
        "def load_model(saved_weights):\n",
        "    '''\n",
        "    DESCRIPTION:\n",
        "    saved_model, saved_weights: saved Keras model in .h5 format\n",
        "    Return: Keras model\n",
        "    '''\n",
        "    model = build_model()\n",
        "    model.compile(loss='categorical_crossentropy', optimizer=optimizers.Adam(0.0), metrics=['accuracy'])\n",
        "    model.load_weights(saved_weights)\n",
        "    print('Model loaded successfully')\n",
        "    return model\n",
        "\n",
        "def map_prediction_order(y_predict, meta_labels):\n",
        "    '''\n",
        "    DESRIPTION:\n",
        "    y_predict: predicted label index for single image (note that y_predict is in range 0-195)\n",
        "    meta_labels: A list that store meta labels and its corresponding index based on\n",
        "    ascending alphabet order\n",
        "    Return: label index(int) e.g. 196\n",
        "    \n",
        "    Since Keras generator organize label indices based on first alphabet of label name,\n",
        "    hence we need to map the predicted label indices based on the order in car meta file\n",
        "    '''\n",
        "    return [key for key in meta_labels[(y_predict)].keys()][0]\n",
        "\n",
        "def predict(path_to_annos_mat, path_to_meta_mat, path_to_images, saved_model):\n",
        "    '''\n",
        "    DESRIPTION:\n",
        "    path_to_annos_mat: path to the train/test mat file e.g. '/path/cars_test_anno.mat'\n",
        "    path_to_meta_mat: path to meta mat file e.g. '/path/cars_meta.mat'\n",
        "    path_to_images: path to images that going to be evaluated e.g. '/path/image_dir'\n",
        "    saved_model: saved Keras model\n",
        "    Return: Predicted label indices (list)\n",
        "    '''\n",
        "    start_time = time.time()\n",
        "    predictions = []\n",
        "    df = load_annotation_from_mat(path_to_annos_mat)\n",
        "    #read images from filename\n",
        "    image_dimensions = 299\n",
        "    image_depth = 3\n",
        "    filenames = path_to_images +'/'+ df['fname']\n",
        "    meta_labels = load_label_from_mat(path_to_meta_mat)\n",
        "    # loop thru each image and predict\n",
        "    for index, f in enumerate(filenames):\n",
        "        x = image.load_img(f, target_size=(image_dimensions, image_dimensions, image_depth))\n",
        "        x = image.img_to_array(x)\n",
        "        x = np.expand_dims(x, axis=0)\n",
        "        x = preprocess_input(x)\n",
        "        y_predict = np.argmax(saved_model.predict(x), 1)\n",
        "        y_predict = map_prediction_order(y_predict[0], meta_labels)\n",
        "        predictions.append(y_predict)\n",
        "        print('\\rprogress:', index+1, \"       \", end='')\n",
        "    #save predictions to txt file\n",
        "    np.savetxt('predictions.txt', predictions, fmt='%d')\n",
        "    print('Result saved to predictions.txt')\n",
        "    print(\"--- %s seconds ---\" % (time.time() - start_time))\n",
        "    return predictions\n",
        "\n",
        "def sort_pred(truth_labels, preds):\n",
        "  '''\n",
        "  DESCRIPTION:\n",
        "  truth_labels: A list that store label index (as annotated in car meta) and label name\n",
        "  preds: A list of predicted accuracy\n",
        "  Return: Sorted results based on descending accuracy\n",
        "  '''\n",
        "  result = []\n",
        "  sort_result = {}\n",
        "  for index, label in enumerate(truth_labels):\n",
        "    label_index = [k for k in label.keys()][0]\n",
        "    label_name = [v for v in label.values()][0]\n",
        "    result.append((label_index, label_name, '%.2f' % (preds[0][index] * 100)))\n",
        "    result.sort(key=lambda ele: -np.float32(ele[2]))\n",
        "  return result\n",
        "  \n",
        "def predict_top_k(path_to_images, path_to_meta_mat, saved_weights, top_k, model):\n",
        "  '''\n",
        "  DESCRIPTION:\n",
        "  top_k: Specify how many top results to output\n",
        "  Return: Sorted top result list\n",
        "  '''\n",
        "  x = image.load_img(path_to_images, target_size=(299, 299, 3))\n",
        "  x = image.img_to_array(x)\n",
        "  x = np.expand_dims(x, axis=0)\n",
        "  x = preprocess_input(x)\n",
        "  pred = model.predict(x)\n",
        "  meta_labels = load_label_from_mat(path_to_meta_mat)\n",
        "  return sort_pred(meta_labels, pred)[:top_k]"
      ],
      "execution_count": 0,
      "outputs": []
    },
    {
      "cell_type": "markdown",
      "metadata": {
        "id": "7drc3v4NPiuQ",
        "colab_type": "text"
      },
      "source": [
        "##Define required file path"
      ]
    },
    {
      "cell_type": "code",
      "metadata": {
        "id": "qh0KDWHH3dyN",
        "colab_type": "code",
        "colab": {}
      },
      "source": [
        "cars_meta = 'dataset/devkit/cars_meta.mat'\n",
        "cars_train_annos = 'dataset/devkit/cars_train_annos.mat'\n",
        "cars_test_annos = 'dataset/devkit/cars_test_annos.mat'\n",
        "path_to_test_images = 'dataset/cars_test'\n",
        "saved_model_weights = 'drive/My Drive/stage2_model_weights.h5'"
      ],
      "execution_count": 0,
      "outputs": []
    },
    {
      "cell_type": "markdown",
      "metadata": {
        "id": "acr2OMCTjgyn",
        "colab_type": "text"
      },
      "source": [
        "##Load saved model"
      ]
    },
    {
      "cell_type": "code",
      "metadata": {
        "id": "BXbDNABHaEq0",
        "colab_type": "code",
        "outputId": "03d31b80-ebea-47ea-b1c9-45345fdcec1d",
        "colab": {
          "base_uri": "https://localhost:8080/",
          "height": 193
        }
      },
      "source": [
        "model = load_model(saved_model_weights)"
      ],
      "execution_count": 0,
      "outputs": [
        {
          "output_type": "stream",
          "text": [
            "WARNING:tensorflow:From /usr/local/lib/python3.6/dist-packages/tensorflow/python/ops/resource_variable_ops.py:435: colocate_with (from tensorflow.python.framework.ops) is deprecated and will be removed in a future version.\n",
            "Instructions for updating:\n",
            "Colocations handled automatically by placer.\n",
            "Downloading data from https://github.com/fchollet/deep-learning-models/releases/download/v0.7/inception_resnet_v2_weights_tf_dim_ordering_tf_kernels_notop.h5\n",
            "219062272/219055592 [==============================] - 8s 0us/step\n",
            "WARNING:tensorflow:From /usr/local/lib/python3.6/dist-packages/tensorflow/python/keras/layers/core.py:143: calling dropout (from tensorflow.python.ops.nn_ops) with keep_prob is deprecated and will be removed in a future version.\n",
            "Instructions for updating:\n",
            "Please use `rate` instead of `keep_prob`. Rate should be set to `rate = 1 - keep_prob`.\n",
            "Model loaded successfully\n"
          ],
          "name": "stdout"
        }
      ]
    },
    {
      "cell_type": "markdown",
      "metadata": {
        "id": "UaHdvxMIPmGM",
        "colab_type": "text"
      },
      "source": [
        "##Run prediction\n",
        "Predictions for testing images will be saved as predictions.txt for evaluation."
      ]
    },
    {
      "cell_type": "code",
      "metadata": {
        "id": "tpuK8TLT3dyP",
        "colab_type": "code",
        "outputId": "eb240953-8050-4e56-fff0-65a3861afb93",
        "colab": {
          "base_uri": "https://localhost:8080/",
          "height": 52
        }
      },
      "source": [
        "predictions = predict(cars_test_annos, cars_meta, path_to_test_images, saved_model=model)"
      ],
      "execution_count": 0,
      "outputs": [
        {
          "output_type": "stream",
          "text": [
            "progress: 8041        Result saved to predictions.txt\n",
            "--- 571.6171555519104 seconds ---\n"
          ],
          "name": "stdout"
        }
      ]
    },
    {
      "cell_type": "markdown",
      "metadata": {
        "id": "yF-Pq3KdjTz0",
        "colab_type": "text"
      },
      "source": [
        "## Output top K predictions"
      ]
    },
    {
      "cell_type": "code",
      "metadata": {
        "id": "1lD-3dQN-SjU",
        "colab_type": "code",
        "colab": {
          "base_uri": "https://localhost:8080/",
          "height": 281
        },
        "outputId": "b3b6ee6c-a197-4ecb-8bfb-92200b2a0065"
      },
      "source": [
        "x = image.load_img('mercedes-c-2012.jpg', target_size=(299, 299, 3))\n",
        "x = image.img_to_array(x).astype(int)\n",
        "fig = plt.figure()\n",
        "plt.title('mercedes c 2012')\n",
        "plt.imshow(x)\n",
        "plt.show()"
      ],
      "execution_count": 11,
      "outputs": [
        {
          "output_type": "display_data",
          "data": {
            "image/png": "[encoded data removed]",
            "text/plain": [
              "<Figure size 432x288 with 1 Axes>"
            ]
          },
          "metadata": {
            "tags": []
          }
        }
      ]
    },
    {
      "cell_type": "code",
      "metadata": {
        "id": "r5buPB3nbVRe",
        "colab_type": "code",
        "outputId": "9c3b57cd-2bc3-4ba1-862a-a6a09dd905b0",
        "colab": {
          "base_uri": "https://localhost:8080/",
          "height": 104
        }
      },
      "source": [
        "predict_top_k('mercedes-c-2012.jpg', cars_meta, saved_model_weights, top_k=5, model=model)"
      ],
      "execution_count": 0,
      "outputs": [
        {
          "output_type": "execute_result",
          "data": {
            "text/plain": [
              "[(162, 'Mercedes-Benz C-Class Sedan 2012', '100.00'),\n",
              " (1, 'AM General Hummer SUV 2000', '0.00'),\n",
              " (6, 'Acura Integra Type R 2001', '0.00'),\n",
              " (2, 'Acura RL Sedan 2012', '0.00'),\n",
              " (3, 'Acura TL Sedan 2012', '0.00')]"
            ]
          },
          "metadata": {
            "tags": []
          },
          "execution_count": 10
        }
      ]
    }
  ]
}